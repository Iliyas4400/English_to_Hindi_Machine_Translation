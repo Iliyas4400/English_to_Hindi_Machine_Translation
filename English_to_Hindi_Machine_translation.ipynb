{
 "cells": [
  {
   "cell_type": "code",
   "execution_count": 1,
   "metadata": {
    "id": "-ZV-AnOEa9KE"
   },
   "outputs": [],
   "source": [
    "import warnings\n",
    "warnings.filterwarnings(\"ignore\")\n",
    "import pandas as pd\n",
    "import re\n",
    "import numpy as np\n",
    "import pickle\n",
    "import matplotlib.pyplot as plt"
   ]
  },
  {
   "cell_type": "code",
   "execution_count": 2,
   "metadata": {
    "id": "J8o87Nd_JWk_"
   },
   "outputs": [],
   "source": [
    "from sklearn.model_selection import train_test_split\n",
    "from tqdm import tqdm\n",
    "from sklearn.metrics import accuracy_score\n",
    "from nltk.translate.bleu_score import sentence_bleu"
   ]
  },
  {
   "cell_type": "code",
   "execution_count": 3,
   "metadata": {
    "id": "tKNLJ62xKTvK"
   },
   "outputs": [],
   "source": [
    "from keras.layers import Input, LSTM, Embedding, Dense,Flatten\n",
    "from keras.models import Model\n",
    "from keras import optimizers\n",
    "from tensorflow.keras import callbacks\n",
    "from tensorflow.keras.utils import plot_model"
   ]
  },
  {
   "cell_type": "code",
   "execution_count": 4,
   "metadata": {
    "id": "yLO56PBmKTvL"
   },
   "outputs": [],
   "source": [
    "from tensorflow.python.keras.preprocessing.text import Tokenizer\n",
    "from tensorflow.python.keras.preprocessing.sequence import pad_sequences"
   ]
  },
  {
   "cell_type": "code",
   "execution_count": 5,
   "metadata": {
    "colab": {
     "base_uri": "https://localhost:8080/"
    },
    "id": "IiJumyIEKbP1",
    "outputId": "0aa4de19-2d8c-4d25-b7b9-4e65a7e4d185"
   },
   "outputs": [
    {
     "name": "stdout",
     "output_type": "stream",
     "text": [
      "Mounted at /content/drive\n"
     ]
    }
   ],
   "source": [
    "from google.colab import drive\n",
    "drive.mount('/content/drive')"
   ]
  },
  {
   "cell_type": "code",
   "execution_count": 6,
   "metadata": {
    "colab": {
     "base_uri": "https://localhost:8080/",
     "height": 202
    },
    "id": "bop7NqpDKTvM",
    "outputId": "54ffdc4b-bd59-49c9-b7b7-384255cb1bc8"
   },
   "outputs": [
    {
     "data": {
      "text/html": [
       "<div>\n",
       "<style scoped>\n",
       "    .dataframe tbody tr th:only-of-type {\n",
       "        vertical-align: middle;\n",
       "    }\n",
       "\n",
       "    .dataframe tbody tr th {\n",
       "        vertical-align: top;\n",
       "    }\n",
       "\n",
       "    .dataframe thead th {\n",
       "        text-align: right;\n",
       "    }\n",
       "</style>\n",
       "<table border=\"1\" class=\"dataframe\">\n",
       "  <thead>\n",
       "    <tr style=\"text-align: right;\">\n",
       "      <th></th>\n",
       "      <th>source</th>\n",
       "      <th>encoder_input</th>\n",
       "      <th>decoder_input</th>\n",
       "      <th>decoder_output</th>\n",
       "    </tr>\n",
       "  </thead>\n",
       "  <tbody>\n",
       "    <tr>\n",
       "      <th>0</th>\n",
       "      <td>ted</td>\n",
       "      <td>&lt;start&gt; politicians do not have permission to ...</td>\n",
       "      <td>&lt;start&gt; राजनीतिज्ञों के पास जो कार्य करना चाहि...</td>\n",
       "      <td>राजनीतिज्ञों के पास जो कार्य करना चाहिए वह करन...</td>\n",
       "    </tr>\n",
       "    <tr>\n",
       "      <th>1</th>\n",
       "      <td>ted</td>\n",
       "      <td>&lt;start&gt; i would like to tell you about one suc...</td>\n",
       "      <td>&lt;start&gt; मई आपको ऐसे ही एक बच्चे के बारे में बत...</td>\n",
       "      <td>मई आपको ऐसे ही एक बच्चे के बारे में बताना चाहू...</td>\n",
       "    </tr>\n",
       "    <tr>\n",
       "      <th>2</th>\n",
       "      <td>indic2012</td>\n",
       "      <td>&lt;start&gt; this percentage is even greater than t...</td>\n",
       "      <td>&lt;start&gt; यह प्रतिशत भारत में हिन्दुओं प्रतिशत स...</td>\n",
       "      <td>यह प्रतिशत भारत में हिन्दुओं प्रतिशत से अधिक ह...</td>\n",
       "    </tr>\n",
       "    <tr>\n",
       "      <th>3</th>\n",
       "      <td>ted</td>\n",
       "      <td>&lt;start&gt; what we really mean is that they are b...</td>\n",
       "      <td>&lt;start&gt; हम ये नहीं कहना चाहते कि वो ध्यान नहीं...</td>\n",
       "      <td>हम ये नहीं कहना चाहते कि वो ध्यान नहीं दे पाते...</td>\n",
       "    </tr>\n",
       "    <tr>\n",
       "      <th>4</th>\n",
       "      <td>indic2012</td>\n",
       "      <td>&lt;start&gt; the ending portion of these vedas is c...</td>\n",
       "      <td>&lt;start&gt; इन्हीं वेदों का अंतिम भाग उपनिषद कहलात...</td>\n",
       "      <td>इन्हीं वेदों का अंतिम भाग उपनिषद कहलाता है &lt;en...</td>\n",
       "    </tr>\n",
       "  </tbody>\n",
       "</table>\n",
       "</div>"
      ],
      "text/plain": [
       "      source  ...                                     decoder_output\n",
       "0        ted  ...  राजनीतिज्ञों के पास जो कार्य करना चाहिए वह करन...\n",
       "1        ted  ...  मई आपको ऐसे ही एक बच्चे के बारे में बताना चाहू...\n",
       "2  indic2012  ...  यह प्रतिशत भारत में हिन्दुओं प्रतिशत से अधिक ह...\n",
       "3        ted  ...  हम ये नहीं कहना चाहते कि वो ध्यान नहीं दे पाते...\n",
       "4  indic2012  ...  इन्हीं वेदों का अंतिम भाग उपनिषद कहलाता है <en...\n",
       "\n",
       "[5 rows x 4 columns]"
      ]
     },
     "execution_count": 6,
     "metadata": {
      "tags": []
     },
     "output_type": "execute_result"
    }
   ],
   "source": [
    "train_df=pd.read_csv('/content/drive/MyDrive/ Machine_translation/procedded_data.csv')\n",
    "train_df.head()"
   ]
  },
  {
   "cell_type": "code",
   "execution_count": 7,
   "metadata": {
    "id": "5u0Sv89kKTvQ"
   },
   "outputs": [],
   "source": [
    "def find_length(sentence):\n",
    "    return len(sentence.split())"
   ]
  },
  {
   "cell_type": "code",
   "execution_count": 8,
   "metadata": {
    "id": "FD1eHFVoKTvR"
   },
   "outputs": [],
   "source": [
    "train_df['len_encoder_input'] = train_df['encoder_input'].apply(find_length)\n",
    "train_df['len_decoder_input'] = train_df['decoder_input'].apply(find_length)"
   ]
  },
  {
   "cell_type": "code",
   "execution_count": 9,
   "metadata": {
    "colab": {
     "base_uri": "https://localhost:8080/",
     "height": 285
    },
    "id": "sdVMRXhRKTvR",
    "outputId": "1551a936-d6dc-43db-f5bf-22db01dc595b"
   },
   "outputs": [
    {
     "data": {
      "text/html": [
       "<div>\n",
       "<style scoped>\n",
       "    .dataframe tbody tr th:only-of-type {\n",
       "        vertical-align: middle;\n",
       "    }\n",
       "\n",
       "    .dataframe tbody tr th {\n",
       "        vertical-align: top;\n",
       "    }\n",
       "\n",
       "    .dataframe thead th {\n",
       "        text-align: right;\n",
       "    }\n",
       "</style>\n",
       "<table border=\"1\" class=\"dataframe\">\n",
       "  <thead>\n",
       "    <tr style=\"text-align: right;\">\n",
       "      <th></th>\n",
       "      <th>source</th>\n",
       "      <th>encoder_input</th>\n",
       "      <th>decoder_input</th>\n",
       "      <th>decoder_output</th>\n",
       "      <th>len_encoder_input</th>\n",
       "      <th>len_decoder_input</th>\n",
       "    </tr>\n",
       "  </thead>\n",
       "  <tbody>\n",
       "    <tr>\n",
       "      <th>0</th>\n",
       "      <td>ted</td>\n",
       "      <td>&lt;start&gt; politicians do not have permission to ...</td>\n",
       "      <td>&lt;start&gt; राजनीतिज्ञों के पास जो कार्य करना चाहि...</td>\n",
       "      <td>राजनीतिज्ञों के पास जो कार्य करना चाहिए वह करन...</td>\n",
       "      <td>14</td>\n",
       "      <td>15</td>\n",
       "    </tr>\n",
       "    <tr>\n",
       "      <th>1</th>\n",
       "      <td>ted</td>\n",
       "      <td>&lt;start&gt; i would like to tell you about one suc...</td>\n",
       "      <td>&lt;start&gt; मई आपको ऐसे ही एक बच्चे के बारे में बत...</td>\n",
       "      <td>मई आपको ऐसे ही एक बच्चे के बारे में बताना चाहू...</td>\n",
       "      <td>12</td>\n",
       "      <td>13</td>\n",
       "    </tr>\n",
       "    <tr>\n",
       "      <th>2</th>\n",
       "      <td>indic2012</td>\n",
       "      <td>&lt;start&gt; this percentage is even greater than t...</td>\n",
       "      <td>&lt;start&gt; यह प्रतिशत भारत में हिन्दुओं प्रतिशत स...</td>\n",
       "      <td>यह प्रतिशत भारत में हिन्दुओं प्रतिशत से अधिक ह...</td>\n",
       "      <td>12</td>\n",
       "      <td>11</td>\n",
       "    </tr>\n",
       "    <tr>\n",
       "      <th>3</th>\n",
       "      <td>ted</td>\n",
       "      <td>&lt;start&gt; what we really mean is that they are b...</td>\n",
       "      <td>&lt;start&gt; हम ये नहीं कहना चाहते कि वो ध्यान नहीं...</td>\n",
       "      <td>हम ये नहीं कहना चाहते कि वो ध्यान नहीं दे पाते...</td>\n",
       "      <td>15</td>\n",
       "      <td>13</td>\n",
       "    </tr>\n",
       "    <tr>\n",
       "      <th>4</th>\n",
       "      <td>indic2012</td>\n",
       "      <td>&lt;start&gt; the ending portion of these vedas is c...</td>\n",
       "      <td>&lt;start&gt; इन्हीं वेदों का अंतिम भाग उपनिषद कहलात...</td>\n",
       "      <td>इन्हीं वेदों का अंतिम भाग उपनिषद कहलाता है &lt;en...</td>\n",
       "      <td>11</td>\n",
       "      <td>10</td>\n",
       "    </tr>\n",
       "  </tbody>\n",
       "</table>\n",
       "</div>"
      ],
      "text/plain": [
       "      source  ... len_decoder_input\n",
       "0        ted  ...                15\n",
       "1        ted  ...                13\n",
       "2  indic2012  ...                11\n",
       "3        ted  ...                13\n",
       "4  indic2012  ...                10\n",
       "\n",
       "[5 rows x 6 columns]"
      ]
     },
     "execution_count": 9,
     "metadata": {
      "tags": []
     },
     "output_type": "execute_result"
    }
   ],
   "source": [
    "train_df.head()"
   ]
  },
  {
   "cell_type": "code",
   "execution_count": 10,
   "metadata": {
    "colab": {
     "base_uri": "https://localhost:8080/"
    },
    "id": "YO3oCuBcKTvS",
    "outputId": "42bd3c23-ff31-4b5b-a76c-d767121a13c1"
   },
   "outputs": [
    {
     "data": {
      "text/plain": [
       "(73561, 6)"
      ]
     },
     "execution_count": 10,
     "metadata": {
      "tags": []
     },
     "output_type": "execute_result"
    }
   ],
   "source": [
    "max_len_eng = 16 \n",
    "max_len_hindi =18 \n",
    "\n",
    "#select only those rows which have length less than max_length\n",
    "train_df=train_df[train_df['len_encoder_input']<=max_len_eng] \n",
    "train_df=train_df[train_df['len_decoder_input']<=max_len_hindi]\n",
    "train_df.shape"
   ]
  },
  {
   "cell_type": "code",
   "execution_count": 11,
   "metadata": {
    "colab": {
     "base_uri": "https://localhost:8080/"
    },
    "id": "iMSvFOW2KTvT",
    "outputId": "2dbf27aa-bd55-4ad6-8356-1a960a39048d"
   },
   "outputs": [
    {
     "data": {
      "text/plain": [
       "((51271, 6), (11035, 6), (11255, 6))"
      ]
     },
     "execution_count": 11,
     "metadata": {
      "tags": []
     },
     "output_type": "execute_result"
    }
   ],
   "source": [
    "train, cv = train_test_split(train_df, test_size=0.15,random_state=24)\n",
    "train, test = train_test_split(train, test_size=0.18,random_state=24)\n",
    "train.shape,cv.shape,test.shape"
   ]
  },
  {
   "cell_type": "code",
   "execution_count": 12,
   "metadata": {
    "colab": {
     "base_uri": "https://localhost:8080/"
    },
    "id": "nwa4FJB-KTvU",
    "outputId": "9716e23d-7e10-40b1-caaf-baad2a3f4361"
   },
   "outputs": [
    {
     "data": {
      "text/plain": [
       "(26221, 16)"
      ]
     },
     "execution_count": 12,
     "metadata": {
      "tags": []
     },
     "output_type": "execute_result"
    }
   ],
   "source": [
    "tknizer_eng = Tokenizer(filters='!\"#$%&()*+,-./:;=?@[\\\\]^_`{|}~\\t\\n')\n",
    "tknizer_eng.fit_on_texts(train['encoder_input'].values)\n",
    "\n",
    "vocab_size_eng = len(tknizer_eng.word_index) + 1\n",
    "vocab_size_eng,max_len_eng"
   ]
  },
  {
   "cell_type": "code",
   "execution_count": 13,
   "metadata": {
    "colab": {
     "base_uri": "https://localhost:8080/"
    },
    "id": "k835GsQUKTvU",
    "outputId": "cf05a39e-cf14-4b36-fc95-732ff0e6d531"
   },
   "outputs": [
    {
     "data": {
      "text/plain": [
       "(28768, 18)"
      ]
     },
     "execution_count": 13,
     "metadata": {
      "tags": []
     },
     "output_type": "execute_result"
    }
   ],
   "source": [
    "tknizer_hindi = Tokenizer(filters='!\"#$%&()*+,-./:;=?@[\\\\]^_`{|}~\\t\\n')\n",
    "tknizer_hindi.fit_on_texts(train['decoder_input'].values)\n",
    "\n",
    "vocab_size_hindi = len(tknizer_hindi.word_index) + 1\n",
    "vocab_size_hindi,max_len_hindi"
   ]
  },
  {
   "cell_type": "code",
   "execution_count": 14,
   "metadata": {
    "colab": {
     "base_uri": "https://localhost:8080/"
    },
    "id": "x7PZ5-A0Qjq5",
    "outputId": "fd306016-dd13-4036-e6c3-5bbfab91e6c2"
   },
   "outputs": [
    {
     "data": {
      "text/plain": [
       "(1, 2)"
      ]
     },
     "execution_count": 14,
     "metadata": {
      "tags": []
     },
     "output_type": "execute_result"
    }
   ],
   "source": [
    "#indecies of <start> and <end>\n",
    "tknizer_eng.word_index['<start>'],tknizer_eng.word_index['<end>']"
   ]
  },
  {
   "cell_type": "code",
   "execution_count": 15,
   "metadata": {
    "colab": {
     "base_uri": "https://localhost:8080/"
    },
    "id": "xrA3OsAnQltb",
    "outputId": "0b06cc36-54c5-403e-d6c9-871771189020"
   },
   "outputs": [
    {
     "data": {
      "text/plain": [
       "('<start>', '<end>')"
      ]
     },
     "execution_count": 15,
     "metadata": {
      "tags": []
     },
     "output_type": "execute_result"
    }
   ],
   "source": [
    "tknizer_eng.index_word[1],tknizer_eng.index_word[2]"
   ]
  },
  {
   "cell_type": "code",
   "execution_count": 16,
   "metadata": {
    "id": "_npHJyn8KTvV"
   },
   "outputs": [],
   "source": [
    "X_train_e=tknizer_eng.texts_to_sequences(train['encoder_input'])\n",
    "X_train_h=tknizer_hindi.texts_to_sequences(train['decoder_input'])\n",
    "y_train_h=tknizer_hindi.texts_to_sequences(train['decoder_output'])\n",
    "\n",
    "X_cv_e=tknizer_eng.texts_to_sequences(cv['encoder_input'])\n",
    "X_cv_h=tknizer_hindi.texts_to_sequences(cv['decoder_input'])\n",
    "y_cv_h=tknizer_hindi.texts_to_sequences(cv['decoder_output']) \n",
    "\n",
    "X_test_e=tknizer_eng.texts_to_sequences(test['encoder_input'])\n",
    "X_test_h=tknizer_hindi.texts_to_sequences(test['decoder_input'])\n",
    "y_test_h=tknizer_hindi.texts_to_sequences(test['decoder_output']) "
   ]
  },
  {
   "cell_type": "code",
   "execution_count": 17,
   "metadata": {
    "id": "VKowsoD0KTvV"
   },
   "outputs": [],
   "source": [
    "X_train_e=pad_sequences(X_train_e,maxlen=max_len_eng,padding='post')\n",
    "X_train_h=pad_sequences(X_train_h,maxlen=max_len_hindi,padding='post')\n",
    "y_train_h=pad_sequences(y_train_h,maxlen=max_len_hindi,padding='post')\n",
    "\n",
    "X_cv_e=pad_sequences(X_cv_e,maxlen=max_len_eng,padding='post')\n",
    "X_cv_h=pad_sequences(X_cv_h,maxlen=max_len_hindi,padding='post')\n",
    "y_cv_h=pad_sequences(y_cv_h,maxlen=max_len_hindi,padding='post') \n",
    "\n",
    "X_test_e=pad_sequences(X_test_e,maxlen=max_len_eng,padding='post')\n",
    "X_test_h=pad_sequences(X_test_h,maxlen=max_len_hindi,padding='post')\n",
    "y_test_h=pad_sequences(y_test_h,maxlen=max_len_hindi,padding='post') "
   ]
  },
  {
   "cell_type": "code",
   "execution_count": 18,
   "metadata": {
    "colab": {
     "base_uri": "https://localhost:8080/"
    },
    "id": "iWlYlgb0KTvW",
    "outputId": "4dc70386-ea3d-4299-ad63-f7931f6f166f"
   },
   "outputs": [
    {
     "name": "stdout",
     "output_type": "stream",
     "text": [
      "(51271, 16) (51271, 18) (51271, 18)\n",
      "(11035, 16) (11035, 18) (11035, 18)\n",
      "(11255, 16) (11255, 18) (11255, 18)\n"
     ]
    }
   ],
   "source": [
    "print(X_train_e.shape,X_train_h.shape,y_train_h.shape)\n",
    "print(X_cv_e.shape,X_cv_h.shape,y_cv_h.shape)\n",
    "print(X_test_e.shape,X_test_h.shape,y_test_h.shape)"
   ]
  },
  {
   "cell_type": "code",
   "execution_count": 19,
   "metadata": {
    "colab": {
     "base_uri": "https://localhost:8080/"
    },
    "id": "GS1uRUsLKTvW",
    "outputId": "55fe328d-220e-43c2-ab56-a61f2b022d20"
   },
   "outputs": [
    {
     "name": "stdout",
     "output_type": "stream",
     "text": [
      "(51271, 16)\n"
     ]
    },
    {
     "data": {
      "text/plain": [
       "array([[   1,    3,  151, ...,    0,    0,    0],\n",
       "       [   1,  217,   12, ..., 2044,   47,    2],\n",
       "       [   1,  792,   15, ...,    0,    0,    0],\n",
       "       ...,\n",
       "       [   1, 5326,    2, ...,    0,    0,    0],\n",
       "       [   1,    6,   76, ...,    0,    0,    0],\n",
       "       [   1,  180, 1141, ..., 3108,    2,    0]], dtype=int32)"
      ]
     },
     "execution_count": 19,
     "metadata": {
      "tags": []
     },
     "output_type": "execute_result"
    }
   ],
   "source": [
    "print(X_train_e.shape)\n",
    "X_train_e"
   ]
  },
  {
   "cell_type": "code",
   "execution_count": 20,
   "metadata": {
    "colab": {
     "base_uri": "https://localhost:8080/"
    },
    "id": "_DBLapk0KTvW",
    "outputId": "e0520711-8266-41f4-c1b3-913788f220d9"
   },
   "outputs": [
    {
     "name": "stdout",
     "output_type": "stream",
     "text": [
      "(51271, 18)\n"
     ]
    },
    {
     "data": {
      "text/plain": [
       "array([[    1,   665,   468, ...,     0,     0,     0],\n",
       "       [    1,    19,  2529, ...,     0,     0,     0],\n",
       "       [    1,  5498, 15884, ...,     0,     0,     0],\n",
       "       ...,\n",
       "       [    1, 11634,     2, ...,     0,     0,     0],\n",
       "       [    1,     6,   274, ...,     0,     0,     0],\n",
       "       [    1,   342,   634, ...,     2,     0,     0]], dtype=int32)"
      ]
     },
     "execution_count": 20,
     "metadata": {
      "tags": []
     },
     "output_type": "execute_result"
    }
   ],
   "source": [
    "print(X_train_h.shape)\n",
    "X_train_h"
   ]
  },
  {
   "cell_type": "code",
   "execution_count": 21,
   "metadata": {
    "colab": {
     "base_uri": "https://localhost:8080/"
    },
    "id": "HcXSCAycKTvX",
    "outputId": "84613f01-607a-4fae-c084-228a2ff202f6"
   },
   "outputs": [
    {
     "name": "stdout",
     "output_type": "stream",
     "text": [
      "(51271, 18)\n"
     ]
    },
    {
     "data": {
      "text/plain": [
       "array([[  665,   468,  1439, ...,     0,     0,     0],\n",
       "       [   19,  2529,     4, ...,     0,     0,     0],\n",
       "       [ 5498, 15884,    42, ...,     0,     0,     0],\n",
       "       ...,\n",
       "       [11634,     2,     2, ...,     0,     0,     0],\n",
       "       [    6,   274,    13, ...,     0,     0,     0],\n",
       "       [  342,   634,     7, ...,     2,     0,     0]], dtype=int32)"
      ]
     },
     "execution_count": 21,
     "metadata": {
      "tags": []
     },
     "output_type": "execute_result"
    }
   ],
   "source": [
    "print(y_train_h.shape)\n",
    "y_train_h"
   ]
  },
  {
   "cell_type": "code",
   "execution_count": 22,
   "metadata": {
    "id": "_vJA6Tn-KTvX"
   },
   "outputs": [],
   "source": [
    "def generate_batch(X_e,X_h,y_h,batch_size):\n",
    "    while True:\n",
    "        for i in range(0,X_e.shape[0]//batch_size):\n",
    "            encoder_input = X_e[i*batch_size:(i+1)*batch_size]\n",
    "            decoder_input = X_h[i*batch_size:(i+1)*batch_size]\n",
    "            decoder_output_= y_h[i*batch_size:(i+1)*batch_size]\n",
    "            decoder_output=np.zeros((batch_size,max_len_hindi,vocab_size_hindi))\n",
    "            for i in range(batch_size):\n",
    "                for j in range(max_len_hindi):\n",
    "                    k=decoder_output_[i][j]\n",
    "                    if k!=0:\n",
    "                        decoder_output[i][j][k]=1\n",
    "                    else:\n",
    "                        continue\n",
    "            yield([encoder_input, decoder_input], decoder_output)    "
   ]
  },
  {
   "cell_type": "code",
   "execution_count": 23,
   "metadata": {
    "id": "NUb0rX4vjSH3"
   },
   "outputs": [],
   "source": [
    "#early stopping\n",
    "from tensorflow.keras.callbacks import EarlyStopping\n",
    "earlystop = EarlyStopping(monitor='val_loss', patience=5,restore_best_weights=True,verbose=1,mode='min')"
   ]
  },
  {
   "cell_type": "code",
   "execution_count": 24,
   "metadata": {
    "id": "P_60S-MF3utp"
   },
   "outputs": [],
   "source": [
    "from keras.callbacks import ModelCheckpoint,EarlyStopping\n",
    "\n",
    "early_stopping = EarlyStopping(monitor='val_loss',min_delta=0.01,patience=4,restore_best_weights=True,mode='min')\n",
    "model_checkpoint = ModelCheckpoint(filepath='/content/drive/MyDrive/ Machine_translation/best_model.h5',mode='min',save_best_only=True)\n",
    "cb=[early_stopping,model_checkpoint]"
   ]
  },
  {
   "cell_type": "code",
   "execution_count": 25,
   "metadata": {
    "id": "m1PtKyFJKTvX"
   },
   "outputs": [],
   "source": [
    "embedding_dim=150\n",
    "lstm_units=125\n",
    "batch_size=128"
   ]
  },
  {
   "cell_type": "code",
   "execution_count": 26,
   "metadata": {
    "colab": {
     "base_uri": "https://localhost:8080/"
    },
    "id": "ekM8LWkmgLOb",
    "outputId": "69b0e5c5-ba68-436d-9155-dc326676f81c"
   },
   "outputs": [
    {
     "name": "stdout",
     "output_type": "stream",
     "text": [
      "Encoder input :  (None, None)\n",
      "Encoder after embedding layer :  (None, None, 150)\n",
      "Encoder output after lstm :  (None, 125)\n",
      "Encoder state_h after lstm :  (None, 125)\n",
      "Encoder state_c after lstm :  (None, 125)\n",
      "----------------------------------------\n"
     ]
    }
   ],
   "source": [
    "# Encoder\n",
    "# encoder_inputs = Input(batch_shape=(batch_size,max_len_eng))\n",
    "encoder_inputs = Input(shape=(None,),name='Encoder_input')\n",
    "print('Encoder input : ',encoder_inputs.shape)\n",
    "enc_emb =  Embedding(vocab_size_eng,embedding_dim,name='Encoder_embedding_layer')(encoder_inputs)\n",
    "print('Encoder after embedding layer : ',enc_emb.shape)\n",
    "encoder_lstm = LSTM(lstm_units, return_state=True,name='Encoder_lstm_layer')\n",
    "encoder_outputs, state_h, state_c = encoder_lstm(enc_emb)\n",
    "print('Encoder output after lstm : ',encoder_outputs.shape)\n",
    "print('Encoder state_h after lstm : ',state_h.shape)\n",
    "print('Encoder state_c after lstm : ',state_c.shape)\n",
    "print('-'*40)\n",
    "# We discard `encoder_outputs` and only keep the states.\n",
    "encoder_states = [state_h, state_c]"
   ]
  },
  {
   "cell_type": "code",
   "execution_count": 27,
   "metadata": {
    "colab": {
     "base_uri": "https://localhost:8080/"
    },
    "id": "yH3IlORxKTvY",
    "outputId": "97073828-c5a7-4775-c021-7597a2e890cd"
   },
   "outputs": [
    {
     "name": "stdout",
     "output_type": "stream",
     "text": [
      "Decoder inputs :  (None, None)\n",
      "Decoder after embedding layer :  (None, None, 150)\n",
      "Decoder outputs after lstm :  (None, None, 125)\n",
      "Decoder outputs after dense layer :  (None, None, 28768)\n",
      "----------------------------------------\n"
     ]
    }
   ],
   "source": [
    "# Set up the decoder, using `encoder_states` as initial state.\n",
    "decoder_inputs = Input(shape=(None,),name='Decoder_input')\n",
    "print('Decoder inputs : ',decoder_inputs.shape)\n",
    "dec_emb_layer = Embedding(vocab_size_hindi,embedding_dim,name='Decoder_embedding_layer')\n",
    "dec_emb = dec_emb_layer(decoder_inputs)\n",
    "print('Decoder after embedding layer : ',dec_emb.shape)\n",
    "# We set up our decoder to return full output sequences,\n",
    "# and to return internal states as well. We don't use the\n",
    "# return states in the training model, but we will use them in inference.\n",
    "decoder_lstm = LSTM(lstm_units, return_sequences=True, return_state=True,name='Decoder_lstm_layer')\n",
    "decoder_outputs, _, _ = decoder_lstm(dec_emb,initial_state=encoder_states)\n",
    "print('Decoder outputs after lstm : ',decoder_outputs.shape)\n",
    "decoder_dense = Dense(vocab_size_hindi, activation='softmax',name='Decoder_dense_layer')\n",
    "decoder_outputs = decoder_dense(decoder_outputs)\n",
    "print('Decoder outputs after dense layer : ',decoder_outputs.shape)\n",
    "print('-'*40)\n",
    "# Define the model that will turn\n",
    "# `encoder_input_data` & `decoder_input_data` into `decoder_target_data`\n",
    "model = Model([encoder_inputs, decoder_inputs], decoder_outputs)"
   ]
  },
  {
   "cell_type": "code",
   "execution_count": 28,
   "metadata": {
    "id": "8cKea5xzKTvZ"
   },
   "outputs": [],
   "source": [
    "model.compile(optimizer='rmsprop', loss='categorical_crossentropy')"
   ]
  },
  {
   "cell_type": "code",
   "execution_count": 29,
   "metadata": {
    "colab": {
     "base_uri": "https://localhost:8080/"
    },
    "id": "czpAynEXKTvZ",
    "outputId": "68692a85-4eb9-4862-a696-4ab551f02b46"
   },
   "outputs": [
    {
     "name": "stdout",
     "output_type": "stream",
     "text": [
      "Model: \"model\"\n",
      "__________________________________________________________________________________________________\n",
      "Layer (type)                    Output Shape         Param #     Connected to                     \n",
      "==================================================================================================\n",
      "Encoder_input (InputLayer)      [(None, None)]       0                                            \n",
      "__________________________________________________________________________________________________\n",
      "Decoder_input (InputLayer)      [(None, None)]       0                                            \n",
      "__________________________________________________________________________________________________\n",
      "Encoder_embedding_layer (Embedd (None, None, 150)    3933150     Encoder_input[0][0]              \n",
      "__________________________________________________________________________________________________\n",
      "Decoder_embedding_layer (Embedd (None, None, 150)    4315200     Decoder_input[0][0]              \n",
      "__________________________________________________________________________________________________\n",
      "Encoder_lstm_layer (LSTM)       [(None, 125), (None, 138000      Encoder_embedding_layer[0][0]    \n",
      "__________________________________________________________________________________________________\n",
      "Decoder_lstm_layer (LSTM)       [(None, None, 125),  138000      Decoder_embedding_layer[0][0]    \n",
      "                                                                 Encoder_lstm_layer[0][1]         \n",
      "                                                                 Encoder_lstm_layer[0][2]         \n",
      "__________________________________________________________________________________________________\n",
      "Decoder_dense_layer (Dense)     (None, None, 28768)  3624768     Decoder_lstm_layer[0][0]         \n",
      "==================================================================================================\n",
      "Total params: 12,149,118\n",
      "Trainable params: 12,149,118\n",
      "Non-trainable params: 0\n",
      "__________________________________________________________________________________________________\n"
     ]
    }
   ],
   "source": [
    "model.summary()"
   ]
  },
  {
   "cell_type": "code",
   "execution_count": 30,
   "metadata": {
    "colab": {
     "base_uri": "https://localhost:8080/",
     "height": 465
    },
    "id": "NfCc4V1-Kwzn",
    "outputId": "bb90c1fc-d419-42bd-995a-5532366d18f7"
   },
   "outputs": [
    {
     "data": {
      "image/png": "[encoded data removed]",
      "text/plain": [
       "<IPython.core.display.Image object>"
      ]
     },
     "execution_count": 30,
     "metadata": {
      "tags": []
     },
     "output_type": "execute_result"
    }
   ],
   "source": [
    "plot_model(model,'model_encoder_decoder.png',show_shapes=True)"
   ]
  },
  {
   "cell_type": "code",
   "execution_count": 31,
   "metadata": {
    "id": "8Y7g__JbKTva"
   },
   "outputs": [],
   "source": [
    "train_samples = len(X_train_e)\n",
    "val_samples = len(X_cv_e)\n",
    "epochs = 100"
   ]
  },
  {
   "cell_type": "code",
   "execution_count": 32,
   "metadata": {
    "colab": {
     "base_uri": "https://localhost:8080/"
    },
    "id": "RmS8r34SKTva",
    "outputId": "a9f69cda-80dd-4541-b9b2-04989af826a1",
    "scrolled": true
   },
   "outputs": [
    {
     "name": "stdout",
     "output_type": "stream",
     "text": [
      "Epoch 1/100\n",
      "400/400 [==============================] - 147s 317ms/step - loss: 3.9287 - val_loss: 3.3951\n",
      "Epoch 2/100\n",
      "400/400 [==============================] - 131s 327ms/step - loss: 3.5641 - val_loss: 3.2120\n",
      "Epoch 3/100\n",
      "400/400 [==============================] - 132s 330ms/step - loss: 3.3221 - val_loss: 3.0004\n",
      "Epoch 4/100\n",
      "400/400 [==============================] - 129s 322ms/step - loss: 3.1015 - val_loss: 2.8979\n",
      "Epoch 5/100\n",
      "400/400 [==============================] - 128s 320ms/step - loss: 2.9580 - val_loss: 2.8069\n",
      "Epoch 6/100\n",
      "400/400 [==============================] - 126s 316ms/step - loss: 2.8505 - val_loss: 2.7466\n",
      "Epoch 7/100\n",
      "400/400 [==============================] - 125s 314ms/step - loss: 2.7571 - val_loss: 2.6886\n",
      "Epoch 8/100\n",
      "400/400 [==============================] - 126s 314ms/step - loss: 2.6666 - val_loss: 2.6515\n",
      "Epoch 9/100\n",
      "400/400 [==============================] - 125s 313ms/step - loss: 2.5903 - val_loss: 2.6219\n",
      "Epoch 10/100\n",
      "400/400 [==============================] - 145s 362ms/step - loss: 2.5181 - val_loss: 2.5873\n",
      "Epoch 11/100\n",
      "400/400 [==============================] - 124s 310ms/step - loss: 2.4506 - val_loss: 2.5675\n",
      "Epoch 12/100\n",
      "400/400 [==============================] - 123s 307ms/step - loss: 2.3856 - val_loss: 2.5509\n",
      "Epoch 13/100\n",
      "400/400 [==============================] - 124s 309ms/step - loss: 2.3233 - val_loss: 2.5356\n",
      "Epoch 14/100\n",
      "400/400 [==============================] - 119s 297ms/step - loss: 2.2629 - val_loss: 2.5423\n",
      "Epoch 15/100\n",
      "400/400 [==============================] - 119s 298ms/step - loss: 2.2046 - val_loss: 2.5174\n",
      "Epoch 16/100\n",
      "400/400 [==============================] - 120s 300ms/step - loss: 2.1474 - val_loss: 2.5154\n",
      "Epoch 17/100\n",
      "400/400 [==============================] - 122s 306ms/step - loss: 2.0931 - val_loss: 2.5270\n",
      "Epoch 18/100\n",
      "400/400 [==============================] - 121s 302ms/step - loss: 2.0395 - val_loss: 2.5127\n",
      "Epoch 19/100\n",
      "400/400 [==============================] - 120s 300ms/step - loss: 1.9874 - val_loss: 2.5353\n"
     ]
    }
   ],
   "source": [
    "hs=model.fit_generator(generator = generate_batch(X_train_e,X_train_h,y_train_h, batch_size = batch_size),\n",
    "                    steps_per_epoch = train_samples//batch_size,\n",
    "                    epochs=epochs,\n",
    "                    validation_data = generate_batch(X_cv_e,X_cv_h,y_cv_h, batch_size = batch_size),\n",
    "                    validation_steps = val_samples//batch_size,callbacks=cb)"
   ]
  },
  {
   "cell_type": "code",
   "execution_count": 33,
   "metadata": {
    "id": "AgFzLmKnKTva"
   },
   "outputs": [],
   "source": [
    "model.save_weights('/content/drive/MyDrive/ Machine_translation/encoder_decoder_weights_100-e.h5')"
   ]
  },
  {
   "cell_type": "code",
   "execution_count": 34,
   "metadata": {
    "id": "FPnazWJDKTvb"
   },
   "outputs": [],
   "source": [
    "model.load_weights('/content/drive/MyDrive/ Machine_translation/encoder_decoder_weights_100-e.h5')"
   ]
  },
  {
   "cell_type": "code",
   "execution_count": 35,
   "metadata": {
    "colab": {
     "base_uri": "https://localhost:8080/",
     "height": 294
    },
    "id": "OuFZtA2fk4G9",
    "outputId": "ef71e9a9-3b7a-45be-c959-d8294392c540"
   },
   "outputs": [
    {
     "data": {
      "image/png": "[encoded data removed]",
      "text/plain": [
       "<Figure size 432x288 with 1 Axes>"
      ]
     },
     "metadata": {
      "needs_background": "light",
      "tags": []
     },
     "output_type": "display_data"
    }
   ],
   "source": [
    "h=hs.history\n",
    "\n",
    "plt.plot(h['loss'], 'r')\n",
    "plt.plot(h['val_loss'], 'b')\n",
    "plt.legend({'Train loss': 'r', 'Validation loss':'b'})\n",
    "plt.ylabel('logloss')\n",
    "plt.xlabel('number of epoch')\n",
    "plt.title('Logloss vs epoch plot')\n",
    "plt.grid()\n",
    "plt.show()"
   ]
  },
  {
   "cell_type": "code",
   "execution_count": 36,
   "metadata": {
    "id": "WEJjxnfUKTvb"
   },
   "outputs": [],
   "source": [
    "# Encode the input sequence to get the \"thought vectors\"\n",
    "encoder_model = Model(encoder_inputs, encoder_states)\n",
    " \n",
    "# Decoder setup\n",
    "# Below tensors will hold the states of the previous time step\n",
    "decoder_state_input_h = Input(shape=(lstm_units,),name='Decoder_state_h')\n",
    "decoder_state_input_c = Input(shape=(lstm_units,),name='Decoder_state_c')\n",
    "decoder_states_inputs = [decoder_state_input_h, decoder_state_input_c]\n",
    "\n",
    "dec_emb2= dec_emb_layer(decoder_inputs) # Get the embeddings of the decoder sequence\n",
    "\n",
    "# To predict the next word in the sequence, set the initial states to the states from the previous time step\n",
    "decoder_outputs2, state_h2, state_c2 = decoder_lstm(dec_emb2, initial_state=decoder_states_inputs)\n",
    "decoder_states2 = [state_h2, state_c2]\n",
    "decoder_outputs2 = decoder_dense(decoder_outputs2) # A dense softmax layer to generate prob dist. over the target vocabulary\n",
    "\n",
    "# Final decoder model\n",
    "decoder_model = Model(\n",
    "    [decoder_inputs] + decoder_states_inputs,\n",
    "    [decoder_outputs2] + decoder_states2)"
   ]
  },
  {
   "cell_type": "code",
   "execution_count": 37,
   "metadata": {
    "colab": {
     "base_uri": "https://localhost:8080/"
    },
    "id": "r20WizPhKTvc",
    "outputId": "92d03be0-64a0-44c0-8289-1d21cee2b80a"
   },
   "outputs": [
    {
     "name": "stdout",
     "output_type": "stream",
     "text": [
      "Model: \"model_1\"\n",
      "_________________________________________________________________\n",
      "Layer (type)                 Output Shape              Param #   \n",
      "=================================================================\n",
      "Encoder_input (InputLayer)   [(None, None)]            0         \n",
      "_________________________________________________________________\n",
      "Encoder_embedding_layer (Emb (None, None, 150)         3933150   \n",
      "_________________________________________________________________\n",
      "Encoder_lstm_layer (LSTM)    [(None, 125), (None, 125) 138000    \n",
      "=================================================================\n",
      "Total params: 4,071,150\n",
      "Trainable params: 4,071,150\n",
      "Non-trainable params: 0\n",
      "_________________________________________________________________\n"
     ]
    }
   ],
   "source": [
    "encoder_model.summary()"
   ]
  },
  {
   "cell_type": "code",
   "execution_count": 38,
   "metadata": {
    "colab": {
     "base_uri": "https://localhost:8080/",
     "height": 312
    },
    "id": "JK5FwzloLS_D",
    "outputId": "b70ced7b-3147-439a-9ab2-292d0ee63f16"
   },
   "outputs": [
    {
     "data": {
      "image/png": "[encoded data removed]",
      "text/plain": [
       "<IPython.core.display.Image object>"
      ]
     },
     "execution_count": 38,
     "metadata": {
      "tags": []
     },
     "output_type": "execute_result"
    }
   ],
   "source": [
    "plot_model(encoder_model,'model_encoder_decoder.png',show_shapes=True)"
   ]
  },
  {
   "cell_type": "code",
   "execution_count": 39,
   "metadata": {
    "colab": {
     "base_uri": "https://localhost:8080/"
    },
    "id": "AO3TgmLGKTvc",
    "outputId": "5bea8178-cf5f-4249-f0c8-4b398cf8198d"
   },
   "outputs": [
    {
     "name": "stdout",
     "output_type": "stream",
     "text": [
      "Model: \"model_2\"\n",
      "__________________________________________________________________________________________________\n",
      "Layer (type)                    Output Shape         Param #     Connected to                     \n",
      "==================================================================================================\n",
      "Decoder_input (InputLayer)      [(None, None)]       0                                            \n",
      "__________________________________________________________________________________________________\n",
      "Decoder_embedding_layer (Embedd (None, None, 150)    4315200     Decoder_input[0][0]              \n",
      "__________________________________________________________________________________________________\n",
      "Decoder_state_h (InputLayer)    [(None, 125)]        0                                            \n",
      "__________________________________________________________________________________________________\n",
      "Decoder_state_c (InputLayer)    [(None, 125)]        0                                            \n",
      "__________________________________________________________________________________________________\n",
      "Decoder_lstm_layer (LSTM)       [(None, None, 125),  138000      Decoder_embedding_layer[1][0]    \n",
      "                                                                 Decoder_state_h[0][0]            \n",
      "                                                                 Decoder_state_c[0][0]            \n",
      "__________________________________________________________________________________________________\n",
      "Decoder_dense_layer (Dense)     (None, None, 28768)  3624768     Decoder_lstm_layer[1][0]         \n",
      "==================================================================================================\n",
      "Total params: 8,077,968\n",
      "Trainable params: 8,077,968\n",
      "Non-trainable params: 0\n",
      "__________________________________________________________________________________________________\n"
     ]
    }
   ],
   "source": [
    "decoder_model.summary()"
   ]
  },
  {
   "cell_type": "code",
   "execution_count": 40,
   "metadata": {
    "colab": {
     "base_uri": "https://localhost:8080/",
     "height": 306
    },
    "id": "L3iV6wQeLZx5",
    "outputId": "ce587d22-519a-4c6b-b340-edcd39efbc22"
   },
   "outputs": [
    {
     "data": {
      "image/png": "[encoded data removed]",
      "text/plain": [
       "<IPython.core.display.Image object>"
      ]
     },
     "execution_count": 40,
     "metadata": {
      "tags": []
     },
     "output_type": "execute_result"
    }
   ],
   "source": [
    "plot_model(decoder_model,'model_encoder_decoder.png',show_shapes=True)"
   ]
  },
  {
   "cell_type": "code",
   "execution_count": 41,
   "metadata": {
    "id": "XSz3yG73KTvc"
   },
   "outputs": [],
   "source": [
    "def decode_sequence(input_seq):\n",
    "    # Encode the input as state vectors.\n",
    "    states_value = encoder_model.predict(input_seq)\n",
    "    # Generate empty target sequence of length 1.\n",
    "    target_seq = np.zeros((1,1))\n",
    "    # Populate the first character of target sequence with the start character.\n",
    "    target_seq[0, 0] = tknizer_hindi.word_index['<start>']\n",
    "\n",
    "    # Sampling loop for a batch of sequences\n",
    "    # (to simplify, here we assume a batch of size 1).\n",
    "    stop_condition = False\n",
    "    decoded_sentence = ''\n",
    "    while not stop_condition:\n",
    "        output_tokens, h, c = decoder_model.predict([target_seq] + states_value)\n",
    "\n",
    "        # Sample a token\n",
    "        sampled_token_index = np.argmax(output_tokens[0, -1, :])\n",
    "        sampled_char = tknizer_hindi.index_word[sampled_token_index]\n",
    "        decoded_sentence += ' '+sampled_char\n",
    "\n",
    "        # Exit condition: either hit max length\n",
    "        # or find stop character.\n",
    "        if (sampled_char == '<end>'):\n",
    "            stop_condition = True\n",
    "\n",
    "        # Update the target sequence (of length 1).\n",
    "        target_seq = np.zeros((1,1))\n",
    "        target_seq[0, 0] = sampled_token_index\n",
    "\n",
    "        # Update states\n",
    "        states_value = [h, c]\n",
    "\n",
    "    return decoded_sentence"
   ]
  },
  {
   "cell_type": "code",
   "execution_count": 42,
   "metadata": {
    "id": "Hljv5TOxKTvd"
   },
   "outputs": [],
   "source": [
    "def index_to_text(x,dictionary):#convert id to word\n",
    "    s=''\n",
    "    for i in x[0]:\n",
    "        if i==0:\n",
    "            break\n",
    "        if dictionary[i]=='<end>' or dictionary[i]=='<start>':\n",
    "            continue\n",
    "        s+=dictionary[i]+' '\n",
    "    return s"
   ]
  },
  {
   "cell_type": "markdown",
   "metadata": {
    "id": "YSFDc4n-MJ3u"
   },
   "source": [
    "# **BLEU Score**"
   ]
  },
  {
   "cell_type": "code",
   "execution_count": 43,
   "metadata": {
    "id": "r6IH5sMdMGJ8"
   },
   "outputs": [],
   "source": [
    "def compute_bleu_score(batch_gen):\n",
    "    bleu_score=0\n",
    "    (input_seq, actual_output), _ = next(batch_gen)\n",
    "    decoded_sentence = decode_sequence(input_seq)\n",
    "    score = sentence_bleu([index_to_text(actual_output,tknizer_hindi.index_word).split()],decoded_sentence.replace('<end>','').split())\n",
    "    return(score)"
   ]
  },
  {
   "cell_type": "code",
   "execution_count": null,
   "metadata": {
    "colab": {
     "base_uri": "https://localhost:8080/"
    },
    "id": "FyIP-iR8MVrT",
    "outputId": "98bc189d-435f-4b68-f606-29dd4bdbc825"
   },
   "outputs": [
    {
     "name": "stderr",
     "output_type": "stream",
     "text": [
      " 30%|███       | 15526/51271 [2:28:32<5:37:17,  1.77it/s]"
     ]
    }
   ],
   "source": [
    "train_gen = generate_batch(X_train_e,X_train_h,y_train_h, batch_size = 1)\n",
    "bleu_score=0\n",
    "for i in tqdm(range(X_train_e.shape[0])):\n",
    "    s=np.round(compute_bleu_score(train_gen),4)\n",
    "    bleu_score+=s\n",
    "print('')\n",
    "print('Train data BLEU score : ',np.round(bleu_score/X_train_e.shape[0],4))"
   ]
  },
  {
   "cell_type": "code",
   "execution_count": 48,
   "metadata": {
    "colab": {
     "base_uri": "https://localhost:8080/"
    },
    "id": "UGfFsQ39Mk18",
    "outputId": "c01e3586-c6f4-487a-a2e3-6803648ff0c9"
   },
   "outputs": [
    {
     "name": "stderr",
     "output_type": "stream",
     "text": [
      "100%|██████████| 11035/11035 [1:14:16<00:00,  2.48it/s]"
     ]
    },
    {
     "name": "stdout",
     "output_type": "stream",
     "text": [
      "\n",
      "CV data BLEU score :  0.3752\n"
     ]
    },
    {
     "name": "stderr",
     "output_type": "stream",
     "text": [
      "\n"
     ]
    }
   ],
   "source": [
    "cv_gen = generate_batch(X_cv_e,X_cv_h,y_cv_h, batch_size = 1)\n",
    "bleu_score=0\n",
    "for i in tqdm(range(X_cv_e.shape[0])):\n",
    "    s=np.round(compute_bleu_score(cv_gen),4)\n",
    "    bleu_score+=s\n",
    "print('')  \n",
    "print('CV data BLEU score : ',np.round(bleu_score/X_cv_e.shape[0],4))"
   ]
  },
  {
   "cell_type": "code",
   "execution_count": 49,
   "metadata": {
    "colab": {
     "base_uri": "https://localhost:8080/"
    },
    "id": "TZzyE6sB2ejf",
    "outputId": "a1edbf48-f1b5-4c8d-d349-e20b14aed5c7"
   },
   "outputs": [
    {
     "name": "stderr",
     "output_type": "stream",
     "text": [
      "100%|██████████| 11255/11255 [1:23:03<00:00,  2.26it/s]"
     ]
    },
    {
     "name": "stdout",
     "output_type": "stream",
     "text": [
      "\n",
      "Test data BLEU score :  0.375\n"
     ]
    },
    {
     "name": "stderr",
     "output_type": "stream",
     "text": [
      "\n"
     ]
    }
   ],
   "source": [
    "test_gen = generate_batch(X_test_e,X_test_h,y_test_h, batch_size = 1)\n",
    "bleu_score=0\n",
    "for i in tqdm(range(X_test_e.shape[0])):\n",
    "    s=np.round(compute_bleu_score(cv_gen),4)\n",
    "    bleu_score+=s\n",
    "print('') \n",
    "print('Test data BLEU score : ',np.round(bleu_score/X_test_e.shape[0],4))"
   ]
  },
  {
   "cell_type": "markdown",
   "metadata": {
    "id": "vxZwcrb9hRsr"
   },
   "source": [
    "## Sample output on Train Data"
   ]
  },
  {
   "cell_type": "code",
   "execution_count": 44,
   "metadata": {
    "id": "axe2MHiqNeKF"
   },
   "outputs": [],
   "source": [
    "def sample_outputs(batch_gen):\n",
    "    (input_seq, actual_output), _ = next(batch_gen)\n",
    "    decoded_sentence = decode_sequence(input_seq)\n",
    "    print('Input English sentence      : ',index_to_text(input_seq,tknizer_eng.index_word))\n",
    "    print('Actual Hindi Translation    : ',index_to_text(actual_output,tknizer_hindi.index_word))\n",
    "    print('Predicted Hindi Translation :', decoded_sentence)\n",
    "    score = sentence_bleu([index_to_text(actual_output,tknizer_hindi.index_word).split()],decoded_sentence.replace('<end>','').split())"
   ]
  },
  {
   "cell_type": "code",
   "execution_count": 45,
   "metadata": {
    "colab": {
     "base_uri": "https://localhost:8080/"
    },
    "id": "Lnokt_ngKTvd",
    "outputId": "5e883599-81d3-4a20-c5c8-a9fb16004835"
   },
   "outputs": [
    {
     "name": "stdout",
     "output_type": "stream",
     "text": [
      "Input English sentence      :  the language used in krishna poem is braj \n",
      "Actual Hindi Translation    :  कृष्ण काव्य धारा की भाषा ब्रज है \n",
      "Predicted Hindi Translation :  कृष्ण का कृष्ण काव्य का नाम है <end>\n",
      "============================================================\n",
      "Input English sentence      :  under this heading i took the autographs of all the players who visited india \n",
      "Actual Hindi Translation    :  इस शीर्षक के नीचे मैंने उन सभी खिलाडियों के हस्ताक्षर करवा लिये \n",
      "Predicted Hindi Translation :  मुझे लगता है कि एक बार एक जीवन का नाम था <end>\n",
      "============================================================\n",
      "Input English sentence      :  gives you a coffee gives you a meal \n",
      "Actual Hindi Translation    :  कॉफ़ी पिलाये या फ़िर खाने का निमंत्रण दे \n",
      "Predicted Hindi Translation :  आप अपने जीवन में आधारित के साथ <end>\n",
      "============================================================\n",
      "Input English sentence      :  and the distribution of japanese is totally different \n",
      "Actual Hindi Translation    :  और जापानी का वितरण बिलकुल अलग हैं \n",
      "Predicted Hindi Translation :  और इस प्रकार के देश के साथ ही बहुत ही है <end>\n",
      "============================================================\n",
      "Input English sentence      :  its capital is jaipur \n",
      "Actual Hindi Translation    :  यहाँ की राजधानी जयपुर है \n",
      "Predicted Hindi Translation :  यह राज्य एवं राजधानी है <end>\n",
      "============================================================\n",
      "Input English sentence      :  i feel sorry in sentencing you \n",
      "Actual Hindi Translation    :  तुम्हें दंड देते हुए मुझे अफसोस हो रहा है \n",
      "Predicted Hindi Translation :  मैं आपसे आपको बता सकते हैं कि मैं <end>\n",
      "============================================================\n",
      "Input English sentence      :  ca is it unrealistic for them \n",
      "Actual Hindi Translation    :  सीए क्या उनके लिए यह आशा करना \n",
      "Predicted Hindi Translation :  क्र एं कि यह सब नहीं है <end>\n",
      "============================================================\n",
      "Input English sentence      :  it is impractical to make solvent sniffing illegal \n",
      "Actual Hindi Translation    :  सॉल्वैंट सूँघने को ग़ैर कानूनी बनाना अव्यावहारिक है \n",
      "Predicted Hindi Translation :  यह मतलब कि वह एक रोग के लिए आनंद का पालन करना है <end>\n",
      "============================================================\n",
      "Input English sentence      :  and the cheerfulness is going to be limited \n",
      "Actual Hindi Translation    :  और तुम्हारी प्रसन्नचित्तता भी सीमित रहेगी \n",
      "Predicted Hindi Translation :  और पानी की तरह से <end>\n",
      "============================================================\n",
      "Input English sentence      :  by moneylenders by traders \n",
      "Actual Hindi Translation    :  साहूकारों द्वारा व्यापारियों द्वारा \n",
      "Predicted Hindi Translation :  नासा के चरण में <end>\n",
      "============================================================\n",
      "Input English sentence      :  picture mediapictureexampleogg \n",
      "Actual Hindi Translation    :  चित्र मीडियाचित्रउदाहरणogg \n",
      "Predicted Hindi Translation :  वीडियो दीर्घा <end>\n",
      "============================================================\n",
      "Input English sentence      :  except that this is the mother of all crossword puzzles \n",
      "Actual Hindi Translation    :  बस यह सभी पहेलियों की माँ है \n",
      "Predicted Hindi Translation :  यह सब सब से ही आप को <end>\n",
      "============================================================\n",
      "Input English sentence      :  this regained hindu state again in delhi \n",
      "Actual Hindi Translation    :  इसी के साथ दिल्ली मे हिंदू राज्य की पुनः स्थापना हुई \n",
      "Predicted Hindi Translation :  इस अधिवेशन में पाकिस्तान में द्रविड़ सभ्यता का <end>\n",
      "============================================================\n",
      "Input English sentence      :  in the christian view \n",
      "Actual Hindi Translation    :  एक प्रचारक है \n",
      "Predicted Hindi Translation :  और टेलीविजन <end>\n",
      "============================================================\n",
      "Input English sentence      :  a very large majority of the domestic fowls in india are nondescript \n",
      "Actual Hindi Translation    :  भारत में अधिकांश घरेलू मुर्गियों की कोई विशेष नस्ल नहीं है \n",
      "Predicted Hindi Translation :  भारत में भारत के दो भागों में हैं <end>\n",
      "============================================================\n"
     ]
    }
   ],
   "source": [
    "train_gen = generate_batch(X_train_e,X_train_h,y_train_h, batch_size = 1)\n",
    "for i in range(15):\n",
    "    sample_outputs(train_gen)\n",
    "    print('='*60)"
   ]
  },
  {
   "cell_type": "markdown",
   "metadata": {
    "id": "mL03G87_gztk"
   },
   "source": [
    "## Sample output on CV Data"
   ]
  },
  {
   "cell_type": "code",
   "execution_count": 46,
   "metadata": {
    "colab": {
     "base_uri": "https://localhost:8080/"
    },
    "id": "kE2domRDKTvq",
    "outputId": "49bd618b-5315-438c-aa51-06e256d84c89"
   },
   "outputs": [
    {
     "name": "stdout",
     "output_type": "stream",
     "text": [
      "Input English sentence      :  we do that corporate \n",
      "Actual Hindi Translation    :  हम ऐसा कंपनियों में करते हैं \n",
      "Predicted Hindi Translation :  हम इस तरह <end>\n",
      "============================================================\n",
      "Input English sentence      :  so let is give this a try \n",
      "Actual Hindi Translation    :  तो चलें इसका प्रयत्न करें \n",
      "Predicted Hindi Translation :  तो अब एक कहानी से बात करना <end>\n",
      "============================================================\n",
      "Input English sentence      :  and their desire to live in peace and harmony \n",
      "Actual Hindi Translation    :  और उनके शांति और सद्भाव में रहने की इच्छा को \n",
      "Predicted Hindi Translation :  और फिर से अधिक और फिर और फ़िर से घूम रहे हैं <end>\n",
      "============================================================\n",
      "Input English sentence      :  it costs cents for us to produce this \n",
      "Actual Hindi Translation    :  और इसके उत्पादन में हमारे सिर्फ सेंट खर्च होते हैं \n",
      "Predicted Hindi Translation :  हमने इस तरह से लेकर एक तरह से निपटने के लिए <end>\n",
      "============================================================\n",
      "Input English sentence      :  basic english hindi dictionary information \n",
      "Actual Hindi Translation    :  शील अंग्रेजी हिन्दी शब्दकोष जानकारी \n",
      "Predicted Hindi Translation :  हिन्दी हिन्दी शब्दकोष <end>\n",
      "============================================================\n",
      "Input English sentence      :  classhindi poet of \n",
      "Actual Hindi Translation    :  श्रेणीफ़र्रुखाबाद के हिन्दी कवि \n",
      "Predicted Hindi Translation :  श्रेणीनोबेल पुरस्कार सम्मानित <end>\n",
      "============================================================\n",
      "Input English sentence      :  does that sound good \n",
      "Actual Hindi Translation    :  क्या यह ठीक है \n",
      "Predicted Hindi Translation :  जो कि कि कैसे हो सकता है <end>\n",
      "============================================================\n",
      "Input English sentence      :  selection and management of breeding \n",
      "Actual Hindi Translation    :  प्रजनक सूअरों का चयन और प्रबन्ध \n",
      "Predicted Hindi Translation :  और रचनात्मकता के साथ <end>\n",
      "============================================================\n",
      "Input English sentence      :  of these is a popular one \n",
      "Actual Hindi Translation    :  लोकप्रिय स्त्री नृत्य है \n",
      "Predicted Hindi Translation :  यह एक एक महत्वपूर्ण है <end>\n",
      "============================================================\n",
      "Input English sentence      :  it is an opportunity for invention and for innovation \n",
      "Actual Hindi Translation    :  तो वो मौका होता है अविष्कार का और नव रचना का \n",
      "Predicted Hindi Translation :  यह एक सपना है और एक कहानी को <end>\n",
      "============================================================\n",
      "Input English sentence      :  however making the intelligence heads accountable at least makes for a good beginning \n",
      "Actual Hindi Translation    :  बहरहाल खुफिया विभाग के को जवाबदेह बनाना अच्छी शुरुआत तो है ही \n",
      "Predicted Hindi Translation :  लेकिन इस तरह के लिए कोई बड़ी अलग अलग से ही ही एक ही रोग का उपयोग नहीं है <end>\n",
      "============================================================\n",
      "Input English sentence      :  subhash chandra bose \n",
      "Actual Hindi Translation    :  सुभाष चंद्र बोस \n",
      "Predicted Hindi Translation :  सीता ने कहा <end>\n",
      "============================================================\n",
      "Input English sentence      :  relation \n",
      "Actual Hindi Translation    :  संदर्भ \n",
      "Predicted Hindi Translation :  बल्लेबाजी <end>\n",
      "============================================================\n",
      "Input English sentence      :  and they are finding new ways of helping to solve society is oldest problems \n",
      "Actual Hindi Translation    :  और समाज की पुरानी और कठिन समस्याओं के नये इलाज ढूँढ रहे हैं \n",
      "Predicted Hindi Translation :  और वे एक दूसरे के साथ से अधिक और अन्य लोगों के साथ एक ही <end>\n",
      "============================================================\n",
      "Input English sentence      :  and then determine what further testing should be done \n",
      "Actual Hindi Translation    :  फिर आगे की प्रक्रिया का निर्धारण \n",
      "Predicted Hindi Translation :  और यह भी नहीं है कि वे भी भी <end>\n",
      "============================================================\n"
     ]
    }
   ],
   "source": [
    "cv_gen = generate_batch(X_cv_e,X_cv_h,y_cv_h, batch_size = 1)\n",
    "for i in range(15):\n",
    "    sample_outputs(cv_gen)\n",
    "    print('='*60)"
   ]
  },
  {
   "cell_type": "markdown",
   "metadata": {
    "id": "uyc37tHV4QN-"
   },
   "source": [
    "## Sample output on Test Data "
   ]
  },
  {
   "cell_type": "code",
   "execution_count": 47,
   "metadata": {
    "colab": {
     "base_uri": "https://localhost:8080/"
    },
    "id": "gi-J2PLbN8-F",
    "outputId": "64b36fa1-7632-437b-f683-d75572fcc23b"
   },
   "outputs": [
    {
     "name": "stdout",
     "output_type": "stream",
     "text": [
      "Input English sentence      :  that is your water that helps to make the cloud \n",
      "Actual Hindi Translation    :  तुम्हारा पसीना बादल बनाने में कर रहा है \n",
      "Predicted Hindi Translation :  कि हम एक तरह के लिए एक साधन हैं कि <end>\n",
      "============================================================\n",
      "Input English sentence      :  many aspects of our general health are linked to our sexual behaviour \n",
      "Actual Hindi Translation    :  हमारे सामान्य स्वास्थ्य की अनेक बातें हमारे लैंगिक संबंध की आदतों से जुड़ी हैं \n",
      "Predicted Hindi Translation :  हमारे पास एक उदाहरण के लिए जो कि जो एक या न्यायालयट्रिब्न्यूल द्वारा प्रयोग किया गया <end>\n",
      "============================================================\n",
      "Input English sentence      :  the productive margin in our government is search for revenue \n",
      "Actual Hindi Translation    :  हमारे सरकार के लिए आय की संभावनाओं में लाभ के अवसर \n",
      "Predicted Hindi Translation :  में एक दिन में चार प्रकार के प्रति भी <end>\n",
      "============================================================\n",
      "Input English sentence      :  lrb b rrb the question by the speaker chairman lrb c rrb \n",
      "Actual Hindi Translation    :  ख द्वारा प्रश्न प्रस्तुत करना \n",
      "Predicted Hindi Translation :  हास्य चावला ने aks <end>\n",
      "============================================================\n",
      "Input English sentence      :  our community functions and ceremonies like marriages festivals etc are noisy events \n",
      "Actual Hindi Translation    :  हमारे सामुदायिक उत्सवों तथा समारोहों जैसे शादियों और आदि में बहुत शोर उत्पन्न होता है \n",
      "Predicted Hindi Translation :  हमारे अंतरंगता में रामायण और गणेश वर्मा के साथ और पुरस्कार <end>\n",
      "============================================================\n",
      "Input English sentence      :  deep penetration \n",
      "Actual Hindi Translation    :  गहरा भेदन \n",
      "Predicted Hindi Translation :  गहरा भेदन <end>\n",
      "============================================================\n",
      "Input English sentence      :  and you can remind them that you vote \n",
      "Actual Hindi Translation    :  ये याद दिला सकते हैं कि आप के पास वोट है \n",
      "Predicted Hindi Translation :  और आप आपको आप देख सकते हैं <end>\n",
      "============================================================\n",
      "Input English sentence      :  they create an electrical charge \n",
      "Actual Hindi Translation    :  वे एक बिजली का बनाते हैं \n",
      "Predicted Hindi Translation :  वो एक एक साधन की तरह से शामिल हैं <end>\n",
      "============================================================\n",
      "Input English sentence      :  the community got together and said take these two women \n",
      "Actual Hindi Translation    :  सब लोग साथ जुटे और उन्होंने कहा इन दो स्त्रियों को ले जायें \n",
      "Predicted Hindi Translation :  कुछ साल से बचने के साथ और एक बार वापस आ गया <end>\n",
      "============================================================\n",
      "Input English sentence      :  questions of morality \n",
      "Actual Hindi Translation    :  नैतिक प्रश्नों के विषय में \n",
      "Predicted Hindi Translation :  टीका नोट <end>\n",
      "============================================================\n",
      "Input English sentence      :  and she said how would i do that i do not know the subject \n",
      "Actual Hindi Translation    :  उसने कहा मैं ये कैसे करूंगी मुझे तो यह विषय नहीं आता \n",
      "Predicted Hindi Translation :  और मुझे कहा कि मैं अपने बारे में बात नहीं हूँ <end>\n",
      "============================================================\n",
      "Input English sentence      :  hindi world \n",
      "Actual Hindi Translation    :  हिन्दी विश्व \n",
      "Predicted Hindi Translation :  श्रेणीभारत के इतिहास <end>\n",
      "============================================================\n",
      "Input English sentence      :  whatever happens after death \n",
      "Actual Hindi Translation    :  मृत्यु के पश्चात जो भी हो \n",
      "Predicted Hindi Translation :  जब ने भी भी भी नहीं <end>\n",
      "============================================================\n",
      "Input English sentence      :  this is how a prisoner drew how they felt about the prison \n",
      "Actual Hindi Translation    :  ये ऐसा है जैसे मुजरिम महसूस करते हैं जेल के बारे में \n",
      "Predicted Hindi Translation :  यह यह पता है कि यह एक अच्छा है कि आप एक दूसरे को <end>\n",
      "============================================================\n",
      "Input English sentence      :  one played a subtle joke on the \n",
      "Actual Hindi Translation    :  एक ने सरदार जी से बड़ा अच्छा मजाक किया \n",
      "Predicted Hindi Translation :  एक एक एक औरत के लिए <end>\n",
      "============================================================\n"
     ]
    }
   ],
   "source": [
    "test_gen = generate_batch(X_test_e,X_test_h,y_test_h, batch_size = 1)\n",
    "for i in range(15):\n",
    "    sample_outputs(test_gen)\n",
    "    print('='*60)"
   ]
  },
  {
   "cell_type": "code",
   "execution_count": null,
   "metadata": {
    "id": "u2NEe587d4kV"
   },
   "outputs": [],
   "source": []
  }
 ],
 "metadata": {
  "accelerator": "GPU",
  "colab": {
   "collapsed_sections": [],
   "name": "Machine_translation_english_to_hindi_2.ipynb",
   "provenance": []
  },
  "kernelspec": {
   "display_name": "Python 3",
   "language": "python",
   "name": "python3"
  },
  "language_info": {
   "codemirror_mode": {
    "name": "ipython",
    "version": 3
   },
   "file_extension": ".py",
   "mimetype": "text/x-python",
   "name": "python",
   "nbconvert_exporter": "python",
   "pygments_lexer": "ipython3",
   "version": "3.7.3"
  }
 },
 "nbformat": 4,
 "nbformat_minor": 1
}
